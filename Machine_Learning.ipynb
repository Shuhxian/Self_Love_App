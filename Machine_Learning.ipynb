{
  "nbformat": 4,
  "nbformat_minor": 0,
  "metadata": {
    "colab": {
      "name": "Machine Learning.ipynb",
      "provenance": [],
      "collapsed_sections": [],
      "authorship_tag": "ABX9TyNgkpyedkvQ2i46u2NzioPl",
      "include_colab_link": true
    },
    "kernelspec": {
      "name": "python3",
      "display_name": "Python 3"
    },
    "language_info": {
      "name": "python"
    }
  },
  "cells": [
    {
      "cell_type": "markdown",
      "metadata": {
        "id": "view-in-github",
        "colab_type": "text"
      },
      "source": [
        "<a href=\"https://colab.research.google.com/github/brandontan99/Self_Love_App/blob/master/Machine_Learning.ipynb\" target=\"_parent\"><img src=\"https://colab.research.google.com/assets/colab-badge.svg\" alt=\"Open In Colab\"/></a>"
      ]
    },
    {
      "cell_type": "markdown",
      "metadata": {
        "id": "HnXKhzrzjYOx"
      },
      "source": [
        "# Import Libraries"
      ]
    },
    {
      "cell_type": "code",
      "metadata": {
        "id": "4z0aAfTihkgq"
      },
      "source": [
        "from sklearn import model_selection"
      ],
      "execution_count": null,
      "outputs": []
    },
    {
      "cell_type": "markdown",
      "metadata": {
        "id": "tsmsNdXyyCm5"
      },
      "source": [
        "# Data Preparation"
      ]
    },
    {
      "cell_type": "code",
      "metadata": {
        "id": "6W5YiZJUyByc"
      },
      "source": [
        ""
      ],
      "execution_count": null,
      "outputs": []
    },
    {
      "cell_type": "markdown",
      "metadata": {
        "id": "72fDWLw4mk4B"
      },
      "source": [
        "# Models"
      ]
    },
    {
      "cell_type": "code",
      "metadata": {
        "id": "ebGiWvLqlQFt"
      },
      "source": [
        "# Models\n",
        "from sklearn.tree import DecisionTreeClassifier, ExtraTreeClassifier\n",
        "from sklearn.neighbors import KNeighborsClassifier, RadiusNeighborsClassifier\n",
        "from sklearn.ensemble import RandomForestClassifier, ExtraTreesClassifier\n",
        "from sklearn.neural_network import MLPClassifier\n",
        "from sklearn.linear_model import RidgeClassifierCV\n",
        "from skmultilearn.adapt import *\n",
        "from skmultilearn.problem_transform import *\n",
        "from skmultilearn.ensemble import * \n",
        "from skmultilearn.cluster import *\n",
        "from sklearn.model_selection import GridSearchCV\n",
        "import time\n",
        "\n",
        "# Base Classifiers ( dict format --> (name, func) : params )\n",
        "base_models = {\n",
        "    (\"Decision Tree\", DecisionTreeClassifier) : {},\n",
        "    (\"Extra Tree\", ExtraTreeClassifier) : {},\n",
        "    (\"Extra Trees\", ExtraTreesClassifier) : {},\n",
        "    (\"KNN\", KNeighborsClassifier) : {},\n",
        "    (\"Radius Neighbours\", RadiusNeighborsClassifier) : {},\n",
        "    (\"Random Forest\", RandomForestClassifier) : {},\n",
        "    (\"MLP\", MLPClassifier) : {},\n",
        "    (\"Ridge\" : RidgeClassifierCV) : {}\n",
        "}\n",
        "\n",
        "# Adaptation approaches\n",
        "adapt_models = {\n",
        "    (\"Binary Relevance kNN A\", BRkNNaClassifier) : {},\t\n",
        "    (\"Binary Relevance kNN B\", BRkNNbClassifier) : {},\t\n",
        "    (\"Multi-Label KNN\", MLkNN) : {},\t\n",
        "    (\"ARAM Neural Network\", MLARAM) : {},\t\n",
        "    (\"Twin SVM\" : MLTSVM) : {}\t\n",
        "}\n",
        "\n",
        "# Problem Transformation\n",
        "problem_transform = {\n",
        "    \"Binary Relevance\" : BinaryRelevance,\n",
        "    \"Classifier Chain\" : ClassifierChain,\n",
        "    \"Label Powerset\" : LabelPowerset\n",
        "}\n",
        "\n",
        "# Ensembles of Classifiers\n",
        "emsemble_methods = {\n",
        "    \"Distinct Random k-labtest\" : RakelD,\n",
        "    \"Overlapping Random k-labtest\" : RakelO,\n",
        "    \"Label Space Partitoning\" : LabelSpacePartitioningClassifier,\n",
        "    \"Majoity Voting\" : MajorityVotingClassifier\n",
        "}\n",
        "# Multi-label embeddings (KIV)"
      ],
      "execution_count": null,
      "outputs": []
    },
    {
      "cell_type": "markdown",
      "metadata": {
        "id": "qK2OVicp3RRN"
      },
      "source": [
        "# Hyperparameters"
      ]
    },
    {
      "cell_type": "code",
      "metadata": {
        "id": "Poag9j9Y3UbR"
      },
      "source": [
        "# Hyperparameters Tuning\n",
        "#clf = GridSearchCV(estimator=model, param_grid=params, n_jobs=-1)\n",
        "num_of_kfold_splits = 10\n",
        "seed = "
      ],
      "execution_count": null,
      "outputs": []
    },
    {
      "cell_type": "markdown",
      "metadata": {
        "id": "NPrPDLJ_sEZJ"
      },
      "source": [
        "# Training"
      ]
    },
    {
      "cell_type": "markdown",
      "metadata": {
        "id": "pBR9K5X1hhUX"
      },
      "source": [
        "### Adaptation approaches"
      ]
    },
    {
      "cell_type": "code",
      "metadata": {
        "id": "Dw7j6Fj5hgOa"
      },
      "source": [
        "results = {}\n",
        "scoring = 'accuracy'\n",
        "for (model_name, model), params in adapt_models.items():\n",
        "  kfold = model_selection.KFold(n_splits=num_of_kfold_splits, random_state=seed)\n",
        "  clf = GridSearchCV(model(), params, cv=kfold, scoring='accuracy')\n",
        "  clf.fit(x, y)\n",
        "  results[model_name] = clf"
      ],
      "execution_count": null,
      "outputs": []
    },
    {
      "cell_type": "markdown",
      "metadata": {
        "id": "iPTInTnWiJ7H"
      },
      "source": [
        "### Problem Transformation"
      ]
    },
    {
      "cell_type": "code",
      "metadata": {
        "id": "EGncoBBlxZSJ"
      },
      "source": [
        "def convertToParamsForProblemTransformation(base_models):\n",
        "  parameters = []\n",
        "  for (model_name, model), params in base_models.items():\n",
        "    parameter = {}\n",
        "    parameter[\"classifier\"] = model()\n",
        "    for param_name, param_value in params.items():\n",
        "      paramter[\"classifier__\"+param_name] = param_value\n",
        "    parameters.append(parameter)\n",
        "\n",
        "  return paramters"
      ],
      "execution_count": null,
      "outputs": []
    },
    {
      "cell_type": "code",
      "metadata": {
        "id": "nuFCZquVjYFa"
      },
      "source": [
        "scoring = 'accuracy'\n",
        "parameters = convertToParamsForProblemTransformation(base_models)\n",
        "for strategy_name, strategy in problem_transform.items():\n",
        "  kfold = model_selection.KFold(n_splits=num_of_kfold_splits, random_state=seed)\n",
        "  clf = GridSearchCV(model, parameters, cv=kfold, scoring='accuracy')\n",
        "  clf.fit(x, y)\n",
        "  results[model_name] = clf"
      ],
      "execution_count": null,
      "outputs": []
    },
    {
      "cell_type": "markdown",
      "metadata": {
        "id": "25CkOfQQkibn"
      },
      "source": [
        "### Ensembles of Classifiers (Under reconstruction)"
      ]
    },
    {
      "cell_type": "code",
      "metadata": {
        "id": "42qfHvzV53dB"
      },
      "source": [
        "def convertToParamsForEnsembles(base_models):\n",
        "  parameters = []\n",
        "  for (model_name, model), params in base_models.items():\n",
        "    parameter = {}\n",
        "    parameter[\"classifier\"] = model()\n",
        "    for param_name, param_value in params.items():\n",
        "      paramter[\"classifier__\"+param_name] = param_value\n",
        "    parameters.append(parameter)\n",
        "\n",
        "  return paramters"
      ],
      "execution_count": null,
      "outputs": []
    },
    {
      "cell_type": "code",
      "metadata": {
        "id": "0HhSmHPUkh7A"
      },
      "source": [
        "scoring = 'accuracy'\n",
        "for emsemble_name, emsemble_method in emsemble_methods.items():\n",
        "  for strategy_name, strategy in problem_transform.items():\n",
        "    for base_model_name, base_model in base_models.items():\n",
        "      kfold = model_selection.KFold(n_splits=num_of_kfold_splits, random_state=seed)\n",
        "      model = strategy(\n",
        "              classifier = base_model(),\n",
        "              require_dense = [False, True] # depens on the data is sparse or dense\n",
        "      )\n",
        "      cv_results = model_selection.cross_val_score(model, X_train, y_train, cv=kfold, scoring=scoring)\n",
        "      results.append(cv_results)\n",
        "      names.append(model_name)\n",
        "      msg = \"%s: %f (%f)\" % (model_name, cv_results.mean(), cv_results.std())\n",
        "      print(msg)\n",
        "      classifier = MajorityVotingClassifier(\n",
        "    clusterer = FixedLabelSpaceClusterer(clusters = [[1,3,4], [0, 2, 5]]),\n",
        "    classifier = ClassifierChain(classifier=GaussianNB())\n",
        ")\n",
        "classifier.fit(X_train,y_train)\n",
        "predictions = classifier.predict(X_test)"
      ],
      "execution_count": null,
      "outputs": []
    },
    {
      "cell_type": "code",
      "metadata": {
        "id": "wLhMB0d07NY3"
      },
      "source": [
        "classifier = MajorityVotingClassifier(\n",
        "    clusterer = FixedLabelSpaceClusterer(clusters = [[1,3,4], [0, 2, 5]]),\n",
        "    classifier = ClassifierChain(classifier=GaussianNB())\n",
        ")\n",
        "classifier.fit(X_train,y_train)\n"
      ],
      "execution_count": null,
      "outputs": []
    },
    {
      "cell_type": "markdown",
      "metadata": {
        "id": "rvWdCMwxmfLx"
      },
      "source": [
        "# Evaluation "
      ]
    },
    {
      "cell_type": "code",
      "metadata": {
        "id": "957obc-Vmb-O"
      },
      "source": [
        "# boxplot algorithm comparison\n",
        "fig = plt.figure()\n",
        "fig.suptitle('Algorithm Comparison')\n",
        "ax = fig.add_subplot(111)\n",
        "plt.boxplot(results)\n",
        "ax.set_xticklabels(names)\n",
        "plt.show()"
      ],
      "execution_count": null,
      "outputs": []
    }
  ]
}