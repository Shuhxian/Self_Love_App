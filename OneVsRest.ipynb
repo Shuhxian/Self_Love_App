{
  "nbformat": 4,
  "nbformat_minor": 0,
  "metadata": {
    "colab": {
      "name": "Hobby.ipynb",
      "provenance": [],
      "collapsed_sections": [],
      "authorship_tag": "ABX9TyMoDk3Dgsy+eppCHDeuC7A1",
      "include_colab_link": true
    },
    "kernelspec": {
      "name": "python3",
      "display_name": "Python 3"
    },
    "language_info": {
      "name": "python"
    }
  },
  "cells": [
    {
      "cell_type": "markdown",
      "metadata": {
        "id": "view-in-github",
        "colab_type": "text"
      },
      "source": [
        "<a href=\"https://colab.research.google.com/github/brandontan99/Self_Love_App/blob/master/OneVsRest.ipynb\" target=\"_parent\"><img src=\"https://colab.research.google.com/assets/colab-badge.svg\" alt=\"Open In Colab\"/></a>"
      ]
    },
    {
      "cell_type": "code",
      "metadata": {
        "colab": {
          "base_uri": "https://localhost:8080/"
        },
        "id": "WlgtI9xDDjFX",
        "outputId": "9bd30d62-b104-452b-fca6-3ea39c1124c7"
      },
      "source": [
        "!git clone https://github.com/brandontan99/Self_Love_App.git\n",
        "%cd Self_Love_App"
      ],
      "execution_count": 1,
      "outputs": [
        {
          "output_type": "stream",
          "text": [
            "Cloning into 'Self_Love_App'...\n",
            "remote: Enumerating objects: 166, done.\u001b[K\n",
            "remote: Counting objects: 100% (166/166), done.\u001b[K\n",
            "remote: Compressing objects: 100% (141/141), done.\u001b[K\n",
            "remote: Total 166 (delta 91), reused 51 (delta 22), pack-reused 0\u001b[K\n",
            "Receiving objects: 100% (166/166), 1.81 MiB | 15.21 MiB/s, done.\n",
            "Resolving deltas: 100% (91/91), done.\n",
            "/content/Self_Love_App\n"
          ],
          "name": "stdout"
        }
      ]
    },
    {
      "cell_type": "code",
      "metadata": {
        "id": "q3rWfMcSDju9"
      },
      "source": [
        "import pandas as pd\n",
        "import numpy as np\n",
        "import matplotlib.pyplot as plt\n",
        "import seaborn as sns\n",
        "import tensorflow as tf\n",
        "from data_cleaning import *\n",
        "from Data_Normalization import *\n",
        "import time\n",
        "from sklearn.linear_model import LogisticRegression\n",
        "from sklearn.naive_bayes import MultinomialNB\n",
        "from sklearn.svm import LinearSVC\n",
        "from sklearn.pipeline import Pipeline\n",
        "from sklearn.metrics import accuracy_score\n",
        "from sklearn.multiclass import OneVsRestClassifier\n",
        "from sklearn.model_selection import train_test_split\n",
        "import sklearn\n",
        "import statistics\n",
        "import joblib\n",
        "from copy import deepcopy\n",
        "from sklearn.preprocessing import LabelEncoder\n",
        "from sklearn.feature_selection import chi2, SelectKBest\n",
        "from sklearn.model_selection import train_test_split\n",
        "from feature_selection import *"
      ],
      "execution_count": 2,
      "outputs": []
    },
    {
      "cell_type": "code",
      "metadata": {
        "colab": {
          "base_uri": "https://localhost:8080/"
        },
        "id": "xVeyyQKnBO2Z",
        "outputId": "fe7dfa64-0966-4b8a-9359-301a945e0989"
      },
      "source": [
        "    # to do the chi2 analysis\n",
        "    df = pd.read_csv(\"WID3006 ML Questionnaire.csv\")\n",
        "    df = data_cleaning(df)\n",
        "    # label encoding is used instead of one-hot encoding because one-hot encoding will create many features for one question\n",
        "    # but label encoding is able to perform chi-square test between a single question as a whole and the hobby  \n",
        "    x_df, y_df = label_encoding(df)\n",
        "    # only evaluate on train data to prevent data leakage\n",
        "    x_train_label_encoded, _, y_train, _ = train_test_split(x_df.to_numpy(), y_df.to_numpy(), test_size=0.2, random_state=1)\n",
        "    chi2_result = chi2_analysis(x_train_label_encoded, x_df, y_train)\n",
        "\n",
        "    # to do Recursive Feature Elimination(rfe) feature selection\n",
        "    df = pd.read_csv(\"WID3006 ML Questionnaire.csv\")\n",
        "    df = data_cleaning(df)\n",
        "    df = data_encoding(df)\n",
        "    df_norm = data_normalization(df)\n",
        "    x = df_norm.iloc[:, :64]\n",
        "    y = df_norm.iloc[:, 64:]\n",
        "    x_numpy, y_numpy = x.to_numpy(), y.to_numpy()\n",
        "    x_train, x_test, y_train, y_test = train_test_split(x_numpy, y_numpy, test_size=0.2, random_state=1)\n",
        "    rfe_result = rfe_cv(x_train, y_train, x.columns, y.columns, LogisticRegression())\n",
        "\n",
        "    # to pick the selected best questions as features\n",
        "    # Eg: choose the best 13 features as below\n",
        "    df = pd.read_csv(\"WID3006 ML Questionnaire.csv\")\n",
        "    df = data_cleaning(df)\n",
        "    df = data_encoding(df)\n",
        "    df_norm = data_normalization(df)\n",
        "    # choose either chi2 or rfe \n",
        "    best_k_features = select_best_k_features(chi2_result, k=13) # choose chi2_result \n",
        "    best_k_features = select_best_k_features(rfe_result, k=13) # choose rfe_analysis\n",
        "    x = filter_features(best_k_features, df_norm)"
      ],
      "execution_count": 10,
      "outputs": [
        {
          "output_type": "stream",
          "text": [
            "\n",
            "Hobby: Sports and Outdoors\n",
            "Best number of features: 11\n",
            "Score: 0.6797849462365592\n",
            "1 Gender: _Male\n",
            "21 Choose a pet which you prefer to keep._Horse\n",
            "25 Choose a pet which you prefer to keep._Tortoise\n",
            "40 What is your favorite color?_Blue\n",
            "50 What is your learning style? (Pick one that benefit you the most)_By reading an e-Book\n",
            "52 Do you enjoy challenges?\n",
            "55 Would you prefer to engage your brain more than your body?\n",
            "57 Are you a perfectionist?\n",
            "58 Are you a trusting person?\n",
            "59 Do you have lot of patience?\n",
            "64 How confident are you in your own abilities?\n",
            "\n",
            "Hobby: Games\n",
            "Best number of features: 10\n",
            "Score: 0.5944086021505377\n",
            "1 Gender: _Male\n",
            "4 What is your current occupation?_University student\n",
            "11 I prefer to spend my money on...._The latest fashion\n",
            "22 Choose a pet which you prefer to keep._I'm not a pet person\n",
            "31 What do you worry more about the most?_Money\n",
            "33 What do you worry more about the most?_Your family and friends\n",
            "35 When you retire, you'd like to live..._Exactly where I live now\n",
            "42 What is your favorite color?_Purple\n",
            "50 What is your learning style? (Pick one that benefit you the most)_By reading an e-Book\n",
            "61 Do you like to sit in front of a computer for long hours?\n",
            "\n",
            "Hobby: Spiritual and Mental\n",
            "Best number of features: 18\n",
            "Score: 0.6270967741935484\n",
            "1 Gender: _Male\n",
            "6 What boosts your confidence ? _Get the most/ special attention among the members\n",
            "8 What boosts your confidence ? _When you accomplish a project\n",
            "15 How do you organize your thoughts? Please pick whichever is closest._I write it down in my calendar\n",
            "17 Choose a pet which you prefer to keep._Cat\n",
            "24 Choose a pet which you prefer to keep._Snake\n",
            "30 Would you rather visit the future or the past?_The past\n",
            "31 What do you worry more about the most?_Money\n",
            "36 When you retire, you'd like to live..._In a hectic big city\n",
            "37 When you retire, you'd like to live..._In a small town\n",
            "43 What is your favorite color?_Red\n",
            "44 What is your favorite color?_White\n",
            "50 What is your learning style? (Pick one that benefit you the most)_By reading an e-Book\n",
            "52 Do you enjoy challenges?\n",
            "53 How creative of a person do you think you are?\n",
            "54 How logical of a person do you think you are?\n",
            "62 Do you enjoy making others happy?\n",
            "63 Can you understand others' perspectives and feelings?\n",
            "\n",
            "Hobby: Performing Arts\n",
            "Best number of features: 12\n",
            "Score: 0.6348387096774193\n",
            "1 Gender: _Male\n",
            "4 What is your current occupation?_University student\n",
            "8 What boosts your confidence ? _When you accomplish a project\n",
            "11 I prefer to spend my money on...._The latest fashion\n",
            "14 How do you organize your thoughts? Please pick whichever is closest._I talk to myself out loud\n",
            "31 What do you worry more about the most?_Money\n",
            "33 What do you worry more about the most?_Your family and friends\n",
            "35 When you retire, you'd like to live..._Exactly where I live now\n",
            "41 What is your favorite color?_Green\n",
            "43 What is your favorite color?_Red\n",
            "45 What is your favorite color?_Yellow\n",
            "51 Do you enjoy socializing with large groups of people?\n",
            "\n",
            "Hobby: Arts and Craft\n",
            "Best number of features: 3\n",
            "Score: 0.7649462365591397\n",
            "53 How creative of a person do you think you are?\n",
            "54 How logical of a person do you think you are?\n",
            "61 Do you like to sit in front of a computer for long hours?\n",
            "\n",
            "Hobby: Food and Drinks\n",
            "Best number of features: 1\n",
            "Score: 0.6929032258064517\n",
            "44 What is your favorite color?_White\n",
            "\n",
            "Hobby: Collecting\n",
            "Best number of features: 1\n",
            "Score: 0.8890322580645161\n",
            "17 Choose a pet which you prefer to keep._Cat\n",
            "\n",
            "Hobby: Rejuvenation\n",
            "Best number of features: 8\n",
            "Score: 0.9150537634408602\n",
            "3 What is your current occupation?_Unemployed\n",
            "4 What is your current occupation?_University student\n",
            "28 What is your favorite time of the day?_Night\n",
            "32 What do you worry more about the most?_The state of the world\n",
            "42 What is your favorite color?_Purple\n",
            "59 Do you have lot of patience?\n",
            "60 Do you organize your schedule well?\n",
            "64 How confident are you in your own abilities?\n"
          ],
          "name": "stdout"
        }
      ]
    },
    {
      "cell_type": "code",
      "metadata": {
        "id": "YIcSLOCq_deQ"
      },
      "source": [
        "def trainModel(pipeline,x,y):\n",
        "  f1_list=[]\n",
        "  pipelineList=[]\n",
        "  x_train, x_test,y_train,y_test = train_test_split(x,y, random_state=1, test_size=0.25, shuffle=True)\n",
        "  x_test=x_test.iloc[20:,:]\n",
        "  y_test=y_test.iloc[20:,:]\n",
        "  for i,hobby in enumerate(y.columns):\n",
        "      # Training logistic regression model on train data\n",
        "      pipelineList.append(deepcopy(pipeline).fit(x_train, y_train[hobby]))\n",
        "    \n",
        "      # calculating test accuracy\n",
        "      prediction = pipelineList[i].predict(x_test)\n",
        "      f1=sklearn.metrics.f1_score(y_test[hobby], prediction,average=\"micro\")\n",
        "      f1_list.append(f1)\n",
        "      print(\"F1 score for\",hobby,\": \",f1)\n",
        "  print('Average f1-score: {}% ({})'.format(statistics.mean(f1_list)*100,statistics.stdev(f1_list)*100))\n",
        "  return pipelineList\n",
        "\n",
        "def predict(pipelineList,x_pred):\n",
        "  x_pred=np.array(x_pred).reshape(-1,x.shape[1])\n",
        "  pred=[]\n",
        "  for i,hobby in enumerate(y.columns):\n",
        "    prediction = pipelineList[i].predict(x_pred)\n",
        "    if prediction[0]==1:\n",
        "      pred.append(hobby)\n",
        "  print(pred)"
      ],
      "execution_count": 4,
      "outputs": []
    },
    {
      "cell_type": "code",
      "metadata": {
        "id": "wD947Ut_E4kW"
      },
      "source": [
        "# Using pipeline for applying logistic regression and one vs rest classifier\n",
        "OneVsRestClassifier.multilabel_=True\n",
        "LogReg_pipeline = Pipeline([\n",
        "                ('clf', OneVsRestClassifier(LogisticRegression(solver='sag'), n_jobs=-1)),\n",
        "            ])\n",
        "NB_pipeline = Pipeline([\n",
        "                ('clf', OneVsRestClassifier(MultinomialNB(\n",
        "                    fit_prior=True, class_prior=None))),\n",
        "            ])\n",
        "SVC_pipeline = Pipeline([\n",
        "                ('clf', OneVsRestClassifier(LinearSVC(), n_jobs=1)),\n",
        "            ])"
      ],
      "execution_count": 5,
      "outputs": []
    },
    {
      "cell_type": "code",
      "metadata": {
        "colab": {
          "base_uri": "https://localhost:8080/"
        },
        "id": "ANwAF3xi0vte",
        "outputId": "18c991a4-5d97-4675-97cc-4e0580df28b7"
      },
      "source": [
        "Logreg_pipelineList=trainModel(LogReg_pipeline,x,y)\n",
        "for i in range(5): \n",
        "  predict(Logreg_pipelineList,x.iloc[i,:])"
      ],
      "execution_count": 11,
      "outputs": [
        {
          "output_type": "stream",
          "text": [
            "F1 score for Sports and Outdoors :  0.6428571428571429\n",
            "F1 score for Games :  0.5\n",
            "F1 score for Spiritual and Mental :  0.6428571428571429\n",
            "F1 score for Performing Arts :  0.6785714285714286\n",
            "F1 score for Arts and Craft :  0.6785714285714286\n",
            "F1 score for Food and Drinks :  0.7857142857142857\n",
            "F1 score for Collecting :  0.9642857142857143\n",
            "F1 score for Rejuvenation :  0.8214285714285714\n",
            "Average f1-score: 71.42857142857143% (14.028292943742365)\n",
            "['Sports and Outdoors', 'Games', 'Spiritual and Mental']\n",
            "['Sports and Outdoors', 'Games']\n",
            "['Sports and Outdoors', 'Games', 'Spiritual and Mental', 'Performing Arts']\n",
            "['Sports and Outdoors', 'Games', 'Spiritual and Mental']\n",
            "['Sports and Outdoors', 'Games', 'Spiritual and Mental']\n"
          ],
          "name": "stdout"
        }
      ]
    },
    {
      "cell_type": "code",
      "metadata": {
        "colab": {
          "base_uri": "https://localhost:8080/"
        },
        "id": "3axWqdTAAr_H",
        "outputId": "fddeee20-e0c2-47f5-baff-d34bae5b935d"
      },
      "source": [
        "NB_pipelineList=trainModel(NB_pipeline,x,y)\n",
        "for i in range(5): \n",
        "  predict(NB_pipelineList,x.iloc[i,:])"
      ],
      "execution_count": 12,
      "outputs": [
        {
          "output_type": "stream",
          "text": [
            "F1 score for Sports and Outdoors :  0.5714285714285714\n",
            "F1 score for Games :  0.5714285714285714\n",
            "F1 score for Spiritual and Mental :  0.6428571428571429\n",
            "F1 score for Performing Arts :  0.6785714285714286\n",
            "F1 score for Arts and Craft :  0.75\n",
            "F1 score for Food and Drinks :  0.75\n",
            "F1 score for Collecting :  0.9285714285714286\n",
            "F1 score for Rejuvenation :  0.8214285714285714\n",
            "Average f1-score: 71.42857142857143% (12.371791482634837)\n",
            "['Sports and Outdoors', 'Games', 'Spiritual and Mental']\n",
            "['Sports and Outdoors']\n",
            "['Sports and Outdoors', 'Games', 'Spiritual and Mental', 'Performing Arts']\n",
            "['Sports and Outdoors', 'Games', 'Spiritual and Mental']\n",
            "['Sports and Outdoors', 'Games', 'Spiritual and Mental', 'Food and Drinks']\n"
          ],
          "name": "stdout"
        }
      ]
    },
    {
      "cell_type": "code",
      "metadata": {
        "colab": {
          "base_uri": "https://localhost:8080/"
        },
        "id": "sVVSPSeFfNY0",
        "outputId": "990429bd-2b63-4e69-c1e5-e3eeb102a183"
      },
      "source": [
        "SVC_pipelineList=trainModel(SVC_pipeline,x,y)\n",
        "for i in range(5): \n",
        "  predict(SVC_pipelineList,x.iloc[i,:])"
      ],
      "execution_count": 13,
      "outputs": [
        {
          "output_type": "stream",
          "text": [
            "F1 score for Sports and Outdoors :  0.6428571428571429\n",
            "F1 score for Games :  0.4642857142857143\n",
            "F1 score for Spiritual and Mental :  0.6428571428571429\n",
            "F1 score for Performing Arts :  0.6785714285714286\n",
            "F1 score for Arts and Craft :  0.6428571428571429\n",
            "F1 score for Food and Drinks :  0.8214285714285714\n",
            "F1 score for Collecting :  0.8928571428571429\n",
            "F1 score for Rejuvenation :  0.7142857142857143\n",
            "Average f1-score: 68.75% (12.912296668207922)\n",
            "['Sports and Outdoors', 'Games', 'Spiritual and Mental']\n",
            "['Sports and Outdoors', 'Games', 'Spiritual and Mental']\n",
            "['Sports and Outdoors', 'Games', 'Spiritual and Mental', 'Performing Arts']\n",
            "['Sports and Outdoors', 'Games', 'Spiritual and Mental']\n",
            "['Sports and Outdoors', 'Games', 'Spiritual and Mental']\n"
          ],
          "name": "stdout"
        }
      ]
    },
    {
      "cell_type": "code",
      "metadata": {
        "id": "JXrdqvlqFFsw"
      },
      "source": [
        ""
      ],
      "execution_count": null,
      "outputs": []
    }
  ]
}