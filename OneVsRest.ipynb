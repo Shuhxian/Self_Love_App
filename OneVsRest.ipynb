{
  "nbformat": 4,
  "nbformat_minor": 0,
  "metadata": {
    "colab": {
      "name": "OneVsRest.ipynb",
      "provenance": [],
      "collapsed_sections": [],
      "authorship_tag": "ABX9TyMQCJfIG2MSAQqH0mSAL3AW",
      "include_colab_link": true
    },
    "kernelspec": {
      "name": "python3",
      "display_name": "Python 3"
    },
    "language_info": {
      "name": "python"
    }
  },
  "cells": [
    {
      "cell_type": "markdown",
      "metadata": {
        "id": "view-in-github",
        "colab_type": "text"
      },
      "source": [
        "<a href=\"https://colab.research.google.com/github/brandontan99/Self_Love_App/blob/master/OneVsRest.ipynb\" target=\"_parent\"><img src=\"https://colab.research.google.com/assets/colab-badge.svg\" alt=\"Open In Colab\"/></a>"
      ]
    },
    {
      "cell_type": "code",
      "metadata": {
        "colab": {
          "base_uri": "https://localhost:8080/"
        },
        "id": "WlgtI9xDDjFX",
        "outputId": "81ab71f5-a41d-4034-d080-2993dd02f6e1"
      },
      "source": [
        "!git clone https://github.com/brandontan99/Self_Love_App.git\n",
        "%cd Self_Love_App"
      ],
      "execution_count": 1,
      "outputs": [
        {
          "output_type": "stream",
          "text": [
            "Cloning into 'Self_Love_App'...\n",
            "remote: Enumerating objects: 193, done.\u001b[K\n",
            "remote: Counting objects: 100% (193/193), done.\u001b[K\n",
            "remote: Compressing objects: 100% (168/168), done.\u001b[K\n",
            "remote: Total 193 (delta 107), reused 50 (delta 22), pack-reused 0\u001b[K\n",
            "Receiving objects: 100% (193/193), 1.88 MiB | 10.62 MiB/s, done.\n",
            "Resolving deltas: 100% (107/107), done.\n",
            "/content/Self_Love_App\n"
          ],
          "name": "stdout"
        }
      ]
    },
    {
      "cell_type": "code",
      "metadata": {
        "id": "q3rWfMcSDju9"
      },
      "source": [
        "from data_cleaning import *\n",
        "from Data_Normalization import *\n",
        "from feature_selection import *\n",
        "\n",
        "import pandas as pd\n",
        "\n",
        "import sklearn\n",
        "from sklearn.pipeline import Pipeline\n",
        "from sklearn.linear_model import LogisticRegression\n",
        "from sklearn.naive_bayes import MultinomialNB\n",
        "from sklearn.svm import LinearSVC\n",
        "from sklearn.metrics import accuracy_score\n",
        "from sklearn.multiclass import OneVsRestClassifier\n",
        "from sklearn.model_selection import train_test_split\n",
        "import statistics\n",
        "import joblib\n",
        "from copy import deepcopy"
      ],
      "execution_count": 2,
      "outputs": []
    },
    {
      "cell_type": "code",
      "metadata": {
        "colab": {
          "base_uri": "https://localhost:8080/"
        },
        "id": "xVeyyQKnBO2Z",
        "outputId": "84923e23-dd90-49e2-d6a1-01a0243fec4a"
      },
      "source": [
        "    #Feature selection\n",
        "    from sklearn.preprocessing import LabelEncoder\n",
        "    from sklearn.feature_selection import chi2, SelectKBest\n",
        "    # to do the chi2 analysis\n",
        "    df = pd.read_csv(\"WID3006 ML Questionnaire.csv\")\n",
        "    df = data_cleaning(df)\n",
        "    # label encoding is used instead of one-hot encoding because one-hot encoding will create many features for one question\n",
        "    # but label encoding is able to perform chi-square test between a single question as a whole and the hobby  \n",
        "    x_df, y_df = label_encoding(df)\n",
        "    # only evaluate on train data to prevent data leakage\n",
        "    x_train_label_encoded, _, y_train, _ = train_test_split(x_df.to_numpy(), y_df.to_numpy(), test_size=0.2, random_state=1)\n",
        "    chi2_result = chi2_analysis(x_train_label_encoded, x_df, y_train)\n",
        "\n",
        "    # to do Recursive Feature Elimination(rfe) feature selection\n",
        "    df = pd.read_csv(\"WID3006 ML Questionnaire.csv\")\n",
        "    df = data_cleaning(df)\n",
        "    df = data_encoding(df)\n",
        "    df_norm = data_normalization(df)\n",
        "    x = df_norm.iloc[:, :64]\n",
        "    y = df_norm.iloc[:, 64:]\n",
        "    x_numpy, y_numpy = x.to_numpy(), y.to_numpy()\n",
        "    x_train, x_test, y_train, y_test = train_test_split(x_numpy, y_numpy, test_size=0.2, random_state=1)\n",
        "    rfe_result = rfe_cv(x_train, y_train, x.columns, y.columns, LogisticRegression())\n",
        "\n",
        "    # to pick the selected best questions as features\n",
        "    # Eg: choose the best 13 features as below\n",
        "    df = pd.read_csv(\"WID3006 ML Questionnaire.csv\")\n",
        "    df = data_cleaning(df)\n",
        "    df = data_encoding(df)\n",
        "    df_norm = data_normalization(df)\n",
        "    # choose either chi2 or rfe \n",
        "    best_k_features = select_best_k_features(chi2_result, k=13) # choose chi2_result \n",
        "    best_k_features = select_best_k_features(rfe_result, k=13) # choose rfe_analysis\n",
        "    x = filter_features(best_k_features, df_norm)"
      ],
      "execution_count": 3,
      "outputs": [
        {
          "output_type": "stream",
          "text": [
            "\n",
            "Hobby: Sports and Outdoors\n",
            "Best number of features: 11\n",
            "Score: 0.6797849462365592\n",
            "1 Gender: _Male\n",
            "21 Choose a pet which you prefer to keep._Horse\n",
            "25 Choose a pet which you prefer to keep._Tortoise\n",
            "40 What is your favorite color?_Blue\n",
            "50 What is your learning style? (Pick one that benefit you the most)_By reading an e-Book\n",
            "52 Do you enjoy challenges?\n",
            "55 Would you prefer to engage your brain more than your body?\n",
            "57 Are you a perfectionist?\n",
            "58 Are you a trusting person?\n",
            "59 Do you have lot of patience?\n",
            "64 How confident are you in your own abilities?\n",
            "\n",
            "Hobby: Games\n",
            "Best number of features: 10\n",
            "Score: 0.5944086021505377\n",
            "1 Gender: _Male\n",
            "4 What is your current occupation?_University student\n",
            "11 I prefer to spend my money on...._The latest fashion\n",
            "22 Choose a pet which you prefer to keep._I'm not a pet person\n",
            "31 What do you worry more about the most?_Money\n",
            "33 What do you worry more about the most?_Your family and friends\n",
            "35 When you retire, you'd like to live..._Exactly where I live now\n",
            "42 What is your favorite color?_Purple\n",
            "50 What is your learning style? (Pick one that benefit you the most)_By reading an e-Book\n",
            "61 Do you like to sit in front of a computer for long hours?\n",
            "\n",
            "Hobby: Spiritual and Mental\n",
            "Best number of features: 18\n",
            "Score: 0.6270967741935484\n",
            "1 Gender: _Male\n",
            "6 What boosts your confidence ? _Get the most/ special attention among the members\n",
            "8 What boosts your confidence ? _When you accomplish a project\n",
            "15 How do you organize your thoughts? Please pick whichever is closest._I write it down in my calendar\n",
            "17 Choose a pet which you prefer to keep._Cat\n",
            "24 Choose a pet which you prefer to keep._Snake\n",
            "30 Would you rather visit the future or the past?_The past\n",
            "31 What do you worry more about the most?_Money\n",
            "36 When you retire, you'd like to live..._In a hectic big city\n",
            "37 When you retire, you'd like to live..._In a small town\n",
            "43 What is your favorite color?_Red\n",
            "44 What is your favorite color?_White\n",
            "50 What is your learning style? (Pick one that benefit you the most)_By reading an e-Book\n",
            "52 Do you enjoy challenges?\n",
            "53 How creative of a person do you think you are?\n",
            "54 How logical of a person do you think you are?\n",
            "62 Do you enjoy making others happy?\n",
            "63 Can you understand others' perspectives and feelings?\n",
            "\n",
            "Hobby: Performing Arts\n",
            "Best number of features: 12\n",
            "Score: 0.6348387096774193\n",
            "1 Gender: _Male\n",
            "4 What is your current occupation?_University student\n",
            "8 What boosts your confidence ? _When you accomplish a project\n",
            "11 I prefer to spend my money on...._The latest fashion\n",
            "14 How do you organize your thoughts? Please pick whichever is closest._I talk to myself out loud\n",
            "31 What do you worry more about the most?_Money\n",
            "33 What do you worry more about the most?_Your family and friends\n",
            "35 When you retire, you'd like to live..._Exactly where I live now\n",
            "41 What is your favorite color?_Green\n",
            "43 What is your favorite color?_Red\n",
            "45 What is your favorite color?_Yellow\n",
            "51 Do you enjoy socializing with large groups of people?\n",
            "\n",
            "Hobby: Arts and Craft\n",
            "Best number of features: 3\n",
            "Score: 0.7649462365591397\n",
            "53 How creative of a person do you think you are?\n",
            "54 How logical of a person do you think you are?\n",
            "61 Do you like to sit in front of a computer for long hours?\n",
            "\n",
            "Hobby: Food and Drinks\n",
            "Best number of features: 1\n",
            "Score: 0.6929032258064517\n",
            "44 What is your favorite color?_White\n",
            "\n",
            "Hobby: Collecting\n",
            "Best number of features: 1\n",
            "Score: 0.8890322580645161\n",
            "17 Choose a pet which you prefer to keep._Cat\n",
            "\n",
            "Hobby: Rejuvenation\n",
            "Best number of features: 8\n",
            "Score: 0.9150537634408602\n",
            "3 What is your current occupation?_Unemployed\n",
            "4 What is your current occupation?_University student\n",
            "28 What is your favorite time of the day?_Night\n",
            "32 What do you worry more about the most?_The state of the world\n",
            "42 What is your favorite color?_Purple\n",
            "59 Do you have lot of patience?\n",
            "60 Do you organize your schedule well?\n",
            "64 How confident are you in your own abilities?\n"
          ],
          "name": "stdout"
        }
      ]
    },
    {
      "cell_type": "code",
      "metadata": {
        "id": "YIcSLOCq_deQ"
      },
      "source": [
        "def train_model(pipeline,x,y):\n",
        "  f1_list=[] #To store the f1 score for each model\n",
        "  pipelineList=[] #To store each model\n",
        "  x_train, x_test,y_train,y_test = train_test_split(x,y, random_state=1, test_size=0.25, shuffle=True)\n",
        "  for i,hobby in enumerate(y.columns):\n",
        "      # Training model on train data\n",
        "      pipelineList.append(deepcopy(pipeline).fit(x_train, y_train[hobby]))\n",
        "      # Calculating test accuracy\n",
        "      prediction = pipelineList[i].predict(x_test)\n",
        "      f1=sklearn.metrics.f1_score(y_test[hobby], prediction,average=\"micro\")\n",
        "      f1_list.append(f1)\n",
        "      print(\"F1-Micro Score for\",hobby,\": \",f1.round(3))\n",
        "  print('F1-Macro Score: {}% (Standard deviation:{})'.format(round(statistics.mean(f1_list)*100,3),round(statistics.stdev(f1_list)*100,3)))\n",
        "  return pipelineList\n",
        "\n",
        "def predict(pipelineList,x_pred):\n",
        "  x_pred=np.array(x_pred).reshape(-1,x.shape[1])\n",
        "  pred=[] #To store predicted hobby\n",
        "  for i,hobby in enumerate(y.columns):\n",
        "    prediction = pipelineList[i].predict(x_pred)\n",
        "    #Add predicted hobby\n",
        "    if prediction[0]==1:\n",
        "      pred.append(hobby)\n",
        "  print(pred)\n",
        "\n",
        "# Using pipeline for applying logistic regression/naive bayes/support vector classifier and one vs rest classifier\n",
        "LogReg_pipeline = Pipeline([\n",
        "                ('logreg', LogisticRegression(solver='sag'))\n",
        "            ])\n",
        "NB_pipeline = Pipeline([\n",
        "                ('nb', MultinomialNB(fit_prior=True, class_prior=None))\n",
        "            ])\n",
        "SVC_pipeline = Pipeline([\n",
        "                ('svc', LinearSVC())\n",
        "            ])"
      ],
      "execution_count": 50,
      "outputs": []
    },
    {
      "cell_type": "code",
      "metadata": {
        "id": "idQUXNooTocL"
      },
      "source": [
        "OneVsRestClassifier.multilabel_=True\n",
        "LogReg_pipeline = Pipeline([\n",
        "                ('logreg', OneVsRestClassifier(LogisticRegression(solver='sag'), n_jobs=-1))\n",
        "            ])\n",
        "NB_pipeline = Pipeline([\n",
        "                ('nb', OneVsRestClassifier(MultinomialNB(fit_prior=True, class_prior=None)))\n",
        "            ])\n",
        "SVC_pipeline = Pipeline([\n",
        "                ('svc', OneVsRestClassifier(LinearSVC(), n_jobs=1))\n",
        "            ])\n",
        "\n",
        "def train_model(pipeline,x,y):\n",
        "  f1_list=[] #To store the f1 score for each model\n",
        "  pipelineList=[] #To store each model\n",
        "  x_train, x_test,y_train,y_test = train_test_split(x,y, random_state=1, test_size=0.25, shuffle=True)\n",
        "  pipelineList.append(pipeline.fit(x_train, y_train))\n",
        "      # Calculating test accuracy\n",
        "  prediction = pipelineList[0].predict(x_test)\n",
        "  f1=sklearn.metrics.f1_score(y_test, prediction,average=\"micro\")\n",
        "  print(f1)\n",
        "  return pipelineList\n",
        "\n",
        "def predict(pipelineList,x_pred):\n",
        "  x_pred=np.array(x_pred).reshape(-1,x.shape[1])\n",
        "  pred=[] #To store predicted hobby\n",
        "  prediction = pipelineList[0].predict(x_pred)\n",
        "  #Add predicted hobby\n",
        "  for i,hobby in enumerate(y.columns):\n",
        "    if prediction[0,i]==1:\n",
        "      pred.append(hobby)\n",
        "  print(pred)"
      ],
      "execution_count": 47,
      "outputs": []
    },
    {
      "cell_type": "code",
      "metadata": {
        "id": "7WZjaNS_KE_-"
      },
      "source": [
        "#Just to get testing set\n",
        "x_train, x_test,y_train,y_test = train_test_split(x,y, random_state=1, test_size=0.25, shuffle=True)"
      ],
      "execution_count": 6,
      "outputs": []
    },
    {
      "cell_type": "code",
      "metadata": {
        "colab": {
          "base_uri": "https://localhost:8080/"
        },
        "id": "ANwAF3xi0vte",
        "outputId": "5abc233f-0477-44b2-a0c2-7c41bcf5a8a9"
      },
      "source": [
        "#Most consistent model\n",
        "Logreg_pipelineList=train_model(LogReg_pipeline,x_train,y_train)\n",
        "for i in range(5): \n",
        "  predict(Logreg_pipelineList,x_test.iloc[i,:])\n",
        "  for j in range(len(y_test.columns)):\n",
        "    print(y_test.columns[j],\":\",y_test.iloc[i,j])"
      ],
      "execution_count": 44,
      "outputs": [
        {
          "output_type": "stream",
          "text": [
            "0.5102040816326531\n",
            "[[1 1 1 0 0 0 0 0]]\n",
            "['Sports and Outdoors', 'Games', 'Spiritual and Mental']\n",
            "Sports and Outdoors : 1.0\n",
            "Games : 1.0\n",
            "Spiritual and Mental : 0.0\n",
            "Performing Arts : 0.0\n",
            "Arts and Craft : 0.0\n",
            "Food and Drinks : 1.0\n",
            "Collecting : 0.0\n",
            "Rejuvenation : 0.0\n",
            "[[1 1 0 0 0 0 0 0]]\n",
            "['Sports and Outdoors', 'Games']\n",
            "Sports and Outdoors : 1.0\n",
            "Games : 1.0\n",
            "Spiritual and Mental : 0.0\n",
            "Performing Arts : 0.0\n",
            "Arts and Craft : 0.0\n",
            "Food and Drinks : 1.0\n",
            "Collecting : 0.0\n",
            "Rejuvenation : 0.0\n",
            "[[1 1 0 0 0 0 0 0]]\n",
            "['Sports and Outdoors', 'Games']\n",
            "Sports and Outdoors : 1.0\n",
            "Games : 0.0\n",
            "Spiritual and Mental : 1.0\n",
            "Performing Arts : 0.0\n",
            "Arts and Craft : 0.0\n",
            "Food and Drinks : 0.0\n",
            "Collecting : 0.0\n",
            "Rejuvenation : 0.0\n",
            "[[1 1 1 1 0 0 0 0]]\n",
            "['Sports and Outdoors', 'Games', 'Spiritual and Mental', 'Performing Arts']\n",
            "Sports and Outdoors : 1.0\n",
            "Games : 1.0\n",
            "Spiritual and Mental : 0.0\n",
            "Performing Arts : 0.0\n",
            "Arts and Craft : 0.0\n",
            "Food and Drinks : 0.0\n",
            "Collecting : 0.0\n",
            "Rejuvenation : 0.0\n",
            "[[1 1 1 0 0 0 0 0]]\n",
            "['Sports and Outdoors', 'Games', 'Spiritual and Mental']\n",
            "Sports and Outdoors : 0.0\n",
            "Games : 1.0\n",
            "Spiritual and Mental : 1.0\n",
            "Performing Arts : 0.0\n",
            "Arts and Craft : 0.0\n",
            "Food and Drinks : 0.0\n",
            "Collecting : 0.0\n",
            "Rejuvenation : 0.0\n"
          ],
          "name": "stdout"
        }
      ]
    },
    {
      "cell_type": "code",
      "metadata": {
        "colab": {
          "base_uri": "https://localhost:8080/"
        },
        "id": "GEEHrg0rYBCB",
        "outputId": "3eab1826-bc64-417c-b364-9c222c937124"
      },
      "source": [
        "NB_pipelineList=train_model(NB_pipeline,x_train,y_train)\n",
        "for i in range(5): \n",
        "  predict(NB_pipelineList,x_test.iloc[i,:])\n",
        "  for j in range(len(y_test.columns)):\n",
        "    print(y_test.columns[j],\":\",y_test.iloc[i,j])"
      ],
      "execution_count": 48,
      "outputs": [
        {
          "output_type": "stream",
          "text": [
            "0.5148514851485149\n",
            "['Sports and Outdoors', 'Games', 'Spiritual and Mental']\n",
            "Sports and Outdoors : 1.0\n",
            "Games : 1.0\n",
            "Spiritual and Mental : 0.0\n",
            "Performing Arts : 0.0\n",
            "Arts and Craft : 0.0\n",
            "Food and Drinks : 1.0\n",
            "Collecting : 0.0\n",
            "Rejuvenation : 0.0\n",
            "['Sports and Outdoors', 'Games']\n",
            "Sports and Outdoors : 1.0\n",
            "Games : 1.0\n",
            "Spiritual and Mental : 0.0\n",
            "Performing Arts : 0.0\n",
            "Arts and Craft : 0.0\n",
            "Food and Drinks : 1.0\n",
            "Collecting : 0.0\n",
            "Rejuvenation : 0.0\n",
            "['Sports and Outdoors', 'Games', 'Spiritual and Mental']\n",
            "Sports and Outdoors : 1.0\n",
            "Games : 0.0\n",
            "Spiritual and Mental : 1.0\n",
            "Performing Arts : 0.0\n",
            "Arts and Craft : 0.0\n",
            "Food and Drinks : 0.0\n",
            "Collecting : 0.0\n",
            "Rejuvenation : 0.0\n",
            "['Sports and Outdoors', 'Games', 'Spiritual and Mental', 'Performing Arts']\n",
            "Sports and Outdoors : 1.0\n",
            "Games : 1.0\n",
            "Spiritual and Mental : 0.0\n",
            "Performing Arts : 0.0\n",
            "Arts and Craft : 0.0\n",
            "Food and Drinks : 0.0\n",
            "Collecting : 0.0\n",
            "Rejuvenation : 0.0\n",
            "['Sports and Outdoors', 'Games', 'Spiritual and Mental']\n",
            "Sports and Outdoors : 0.0\n",
            "Games : 1.0\n",
            "Spiritual and Mental : 1.0\n",
            "Performing Arts : 0.0\n",
            "Arts and Craft : 0.0\n",
            "Food and Drinks : 0.0\n",
            "Collecting : 0.0\n",
            "Rejuvenation : 0.0\n"
          ],
          "name": "stdout"
        }
      ]
    },
    {
      "cell_type": "code",
      "metadata": {
        "colab": {
          "base_uri": "https://localhost:8080/"
        },
        "id": "YN9znRxuYKz1",
        "outputId": "1cab1ac4-cbb0-4633-e19c-4ee8d2afd36a"
      },
      "source": [
        "SVC_pipelineList=train_model(SVC_pipeline,x_train,y_train)\n",
        "for i in range(5): \n",
        "  predict(SVC_pipelineList,x_test.iloc[i,:])\n",
        "  for j in range(len(y_test.columns)):\n",
        "    print(y_test.columns[j],\":\",y_test.iloc[i,j])"
      ],
      "execution_count": 49,
      "outputs": [
        {
          "output_type": "stream",
          "text": [
            "0.49000000000000005\n",
            "['Sports and Outdoors', 'Games', 'Performing Arts', 'Food and Drinks']\n",
            "Sports and Outdoors : 1.0\n",
            "Games : 1.0\n",
            "Spiritual and Mental : 0.0\n",
            "Performing Arts : 0.0\n",
            "Arts and Craft : 0.0\n",
            "Food and Drinks : 1.0\n",
            "Collecting : 0.0\n",
            "Rejuvenation : 0.0\n",
            "['Sports and Outdoors', 'Games']\n",
            "Sports and Outdoors : 1.0\n",
            "Games : 1.0\n",
            "Spiritual and Mental : 0.0\n",
            "Performing Arts : 0.0\n",
            "Arts and Craft : 0.0\n",
            "Food and Drinks : 1.0\n",
            "Collecting : 0.0\n",
            "Rejuvenation : 0.0\n",
            "['Sports and Outdoors', 'Games']\n",
            "Sports and Outdoors : 1.0\n",
            "Games : 0.0\n",
            "Spiritual and Mental : 1.0\n",
            "Performing Arts : 0.0\n",
            "Arts and Craft : 0.0\n",
            "Food and Drinks : 0.0\n",
            "Collecting : 0.0\n",
            "Rejuvenation : 0.0\n",
            "['Sports and Outdoors', 'Games', 'Spiritual and Mental', 'Performing Arts']\n",
            "Sports and Outdoors : 1.0\n",
            "Games : 1.0\n",
            "Spiritual and Mental : 0.0\n",
            "Performing Arts : 0.0\n",
            "Arts and Craft : 0.0\n",
            "Food and Drinks : 0.0\n",
            "Collecting : 0.0\n",
            "Rejuvenation : 0.0\n",
            "['Sports and Outdoors', 'Spiritual and Mental']\n",
            "Sports and Outdoors : 0.0\n",
            "Games : 1.0\n",
            "Spiritual and Mental : 1.0\n",
            "Performing Arts : 0.0\n",
            "Arts and Craft : 0.0\n",
            "Food and Drinks : 0.0\n",
            "Collecting : 0.0\n",
            "Rejuvenation : 0.0\n"
          ],
          "name": "stdout"
        }
      ]
    },
    {
      "cell_type": "code",
      "metadata": {
        "id": "QYtjWDoUYSCx"
      },
      "source": [
        ""
      ],
      "execution_count": null,
      "outputs": []
    },
    {
      "cell_type": "code",
      "metadata": {
        "colab": {
          "base_uri": "https://localhost:8080/"
        },
        "id": "jGq_oFRNYYQk",
        "outputId": "00bfeafd-b9f1-424c-df2c-438d50e942f7"
      },
      "source": [
        "#Most consistent model\n",
        "Logreg_pipelineList=train_model(LogReg_pipeline,x_train,y_train)\n",
        "for i in range(5): \n",
        "  predict(Logreg_pipelineList,x_test.iloc[i,:])\n",
        "  for j in range(len(y_test.columns)):\n",
        "    print(y_test.columns[j],\":\",y_test.iloc[i,j])"
      ],
      "execution_count": 51,
      "outputs": [
        {
          "output_type": "stream",
          "text": [
            "F1-Micro Score for Sports and Outdoors :  0.611\n",
            "F1-Micro Score for Games :  0.528\n",
            "F1-Micro Score for Spiritual and Mental :  0.5\n",
            "F1-Micro Score for Performing Arts :  0.611\n",
            "F1-Micro Score for Arts and Craft :  0.667\n",
            "F1-Micro Score for Food and Drinks :  0.639\n",
            "F1-Micro Score for Collecting :  0.833\n",
            "F1-Micro Score for Rejuvenation :  0.944\n",
            "F1-Macro Score: 66.667% (Standard deviation:15.069)\n",
            "['Sports and Outdoors', 'Games', 'Spiritual and Mental']\n",
            "Sports and Outdoors : 1.0\n",
            "Games : 1.0\n",
            "Spiritual and Mental : 0.0\n",
            "Performing Arts : 0.0\n",
            "Arts and Craft : 0.0\n",
            "Food and Drinks : 1.0\n",
            "Collecting : 0.0\n",
            "Rejuvenation : 0.0\n",
            "['Sports and Outdoors', 'Games']\n",
            "Sports and Outdoors : 1.0\n",
            "Games : 1.0\n",
            "Spiritual and Mental : 0.0\n",
            "Performing Arts : 0.0\n",
            "Arts and Craft : 0.0\n",
            "Food and Drinks : 1.0\n",
            "Collecting : 0.0\n",
            "Rejuvenation : 0.0\n",
            "['Sports and Outdoors', 'Games']\n",
            "Sports and Outdoors : 1.0\n",
            "Games : 0.0\n",
            "Spiritual and Mental : 1.0\n",
            "Performing Arts : 0.0\n",
            "Arts and Craft : 0.0\n",
            "Food and Drinks : 0.0\n",
            "Collecting : 0.0\n",
            "Rejuvenation : 0.0\n",
            "['Sports and Outdoors', 'Games', 'Spiritual and Mental', 'Performing Arts']\n",
            "Sports and Outdoors : 1.0\n",
            "Games : 1.0\n",
            "Spiritual and Mental : 0.0\n",
            "Performing Arts : 0.0\n",
            "Arts and Craft : 0.0\n",
            "Food and Drinks : 0.0\n",
            "Collecting : 0.0\n",
            "Rejuvenation : 0.0\n",
            "['Sports and Outdoors', 'Games', 'Spiritual and Mental']\n",
            "Sports and Outdoors : 0.0\n",
            "Games : 1.0\n",
            "Spiritual and Mental : 1.0\n",
            "Performing Arts : 0.0\n",
            "Arts and Craft : 0.0\n",
            "Food and Drinks : 0.0\n",
            "Collecting : 0.0\n",
            "Rejuvenation : 0.0\n"
          ],
          "name": "stdout"
        }
      ]
    },
    {
      "cell_type": "code",
      "metadata": {
        "colab": {
          "base_uri": "https://localhost:8080/"
        },
        "id": "3axWqdTAAr_H",
        "outputId": "fd5babbd-15a8-4f02-b306-17d6da9618da"
      },
      "source": [
        "NB_pipelineList=train_model(NB_pipeline,x_train,y_train)\n",
        "for i in range(5): \n",
        "  predict(NB_pipelineList,x_test.iloc[i,:])\n",
        "  for j in range(len(y_test.columns)):\n",
        "    print(y_test.columns[j],\":\",y_test.iloc[i,j])"
      ],
      "execution_count": 24,
      "outputs": [
        {
          "output_type": "stream",
          "text": [
            "F1-Micro Score for Sports and Outdoors :  0.611\n",
            "F1-Micro Score for Games :  0.556\n",
            "F1-Micro Score for Spiritual and Mental :  0.528\n",
            "F1-Micro Score for Performing Arts :  0.583\n",
            "F1-Micro Score for Arts and Craft :  0.639\n",
            "F1-Micro Score for Food and Drinks :  0.583\n",
            "F1-Micro Score for Collecting :  0.833\n",
            "F1-Micro Score for Rejuvenation :  0.944\n",
            "F1-Macro Score: 65.972% (Standard deviation:14.829)\n",
            "['Sports and Outdoors', 'Games', 'Spiritual and Mental']\n",
            "Sports and Outdoors : 1.0\n",
            "Games : 1.0\n",
            "Spiritual and Mental : 0.0\n",
            "Performing Arts : 0.0\n",
            "Arts and Craft : 0.0\n",
            "Food and Drinks : 1.0\n",
            "Collecting : 0.0\n",
            "Rejuvenation : 0.0\n",
            "['Sports and Outdoors', 'Games']\n",
            "Sports and Outdoors : 1.0\n",
            "Games : 1.0\n",
            "Spiritual and Mental : 0.0\n",
            "Performing Arts : 0.0\n",
            "Arts and Craft : 0.0\n",
            "Food and Drinks : 1.0\n",
            "Collecting : 0.0\n",
            "Rejuvenation : 0.0\n",
            "['Sports and Outdoors', 'Games', 'Spiritual and Mental']\n",
            "Sports and Outdoors : 1.0\n",
            "Games : 0.0\n",
            "Spiritual and Mental : 1.0\n",
            "Performing Arts : 0.0\n",
            "Arts and Craft : 0.0\n",
            "Food and Drinks : 0.0\n",
            "Collecting : 0.0\n",
            "Rejuvenation : 0.0\n",
            "['Sports and Outdoors', 'Games', 'Spiritual and Mental', 'Performing Arts']\n",
            "Sports and Outdoors : 1.0\n",
            "Games : 1.0\n",
            "Spiritual and Mental : 0.0\n",
            "Performing Arts : 0.0\n",
            "Arts and Craft : 0.0\n",
            "Food and Drinks : 0.0\n",
            "Collecting : 0.0\n",
            "Rejuvenation : 0.0\n",
            "['Sports and Outdoors', 'Games', 'Spiritual and Mental']\n",
            "Sports and Outdoors : 0.0\n",
            "Games : 1.0\n",
            "Spiritual and Mental : 1.0\n",
            "Performing Arts : 0.0\n",
            "Arts and Craft : 0.0\n",
            "Food and Drinks : 0.0\n",
            "Collecting : 0.0\n",
            "Rejuvenation : 0.0\n"
          ],
          "name": "stdout"
        }
      ]
    },
    {
      "cell_type": "code",
      "metadata": {
        "colab": {
          "base_uri": "https://localhost:8080/"
        },
        "id": "sVVSPSeFfNY0",
        "outputId": "79aeface-66df-4292-8ecb-3f74deedbfe2"
      },
      "source": [
        "SVC_pipelineList=train_model(SVC_pipeline,x_train,y_train)\n",
        "for i in range(5): \n",
        "  predict(SVC_pipelineList,x_test.iloc[i,:])\n",
        "  for j in range(len(y_test.columns)):\n",
        "    print(y_test.columns[j],\":\",y_test.iloc[i,j])"
      ],
      "execution_count": 25,
      "outputs": [
        {
          "output_type": "stream",
          "text": [
            "F1-Micro Score for Sports and Outdoors :  0.556\n",
            "F1-Micro Score for Games :  0.528\n",
            "F1-Micro Score for Spiritual and Mental :  0.5\n",
            "F1-Micro Score for Performing Arts :  0.583\n",
            "F1-Micro Score for Arts and Craft :  0.694\n",
            "F1-Micro Score for Food and Drinks :  0.611\n",
            "F1-Micro Score for Collecting :  0.778\n",
            "F1-Micro Score for Rejuvenation :  0.917\n",
            "F1-Macro Score: 64.583% (Standard deviation:14.222)\n",
            "['Sports and Outdoors', 'Games', 'Performing Arts', 'Food and Drinks']\n",
            "Sports and Outdoors : 1.0\n",
            "Games : 1.0\n",
            "Spiritual and Mental : 0.0\n",
            "Performing Arts : 0.0\n",
            "Arts and Craft : 0.0\n",
            "Food and Drinks : 1.0\n",
            "Collecting : 0.0\n",
            "Rejuvenation : 0.0\n",
            "['Sports and Outdoors', 'Games']\n",
            "Sports and Outdoors : 1.0\n",
            "Games : 1.0\n",
            "Spiritual and Mental : 0.0\n",
            "Performing Arts : 0.0\n",
            "Arts and Craft : 0.0\n",
            "Food and Drinks : 1.0\n",
            "Collecting : 0.0\n",
            "Rejuvenation : 0.0\n",
            "['Sports and Outdoors', 'Games']\n",
            "Sports and Outdoors : 1.0\n",
            "Games : 0.0\n",
            "Spiritual and Mental : 1.0\n",
            "Performing Arts : 0.0\n",
            "Arts and Craft : 0.0\n",
            "Food and Drinks : 0.0\n",
            "Collecting : 0.0\n",
            "Rejuvenation : 0.0\n",
            "['Sports and Outdoors', 'Games', 'Spiritual and Mental', 'Performing Arts']\n",
            "Sports and Outdoors : 1.0\n",
            "Games : 1.0\n",
            "Spiritual and Mental : 0.0\n",
            "Performing Arts : 0.0\n",
            "Arts and Craft : 0.0\n",
            "Food and Drinks : 0.0\n",
            "Collecting : 0.0\n",
            "Rejuvenation : 0.0\n",
            "['Sports and Outdoors', 'Spiritual and Mental']\n",
            "Sports and Outdoors : 0.0\n",
            "Games : 1.0\n",
            "Spiritual and Mental : 1.0\n",
            "Performing Arts : 0.0\n",
            "Arts and Craft : 0.0\n",
            "Food and Drinks : 0.0\n",
            "Collecting : 0.0\n",
            "Rejuvenation : 0.0\n"
          ],
          "name": "stdout"
        }
      ]
    },
    {
      "cell_type": "code",
      "metadata": {
        "id": "JXrdqvlqFFsw",
        "colab": {
          "base_uri": "https://localhost:8080/"
        },
        "outputId": "1cb89ede-c34a-4be8-87cd-d82f830627f1"
      },
      "source": [
        "from skmultilearn.problem_transform import BinaryRelevance\n",
        "from sklearn.model_selection import GridSearchCV\n",
        "\n",
        "parameters = [\n",
        "    {\n",
        "        'classifier': [LogisticRegression(solver='sag')]\n",
        "    },\n",
        "    {\n",
        "        'classifier': [MultinomialNB(fit_prior=True, class_prior=None)]\n",
        "    },\n",
        "    {\n",
        "        'classifier': [LinearSVC()]\n",
        "    }\n",
        "]\n",
        "\n",
        "clf = GridSearchCV(BinaryRelevance(), parameters, scoring='f1_micro')\n",
        "clf.fit(x_train, y_train)\n",
        "\n",
        "print (clf.best_params_, clf.best_score_)\n"
      ],
      "execution_count": 31,
      "outputs": [
        {
          "output_type": "stream",
          "text": [
            "{'classifier': MultinomialNB(alpha=1.0, class_prior=None, fit_prior=True)} 0.5475998015895553\n"
          ],
          "name": "stdout"
        }
      ]
    },
    {
      "cell_type": "code",
      "metadata": {
        "colab": {
          "base_uri": "https://localhost:8080/"
        },
        "id": "Dyhzp06swpK1",
        "outputId": "d9a6cd45-1feb-4a97-fb53-5991e544609a"
      },
      "source": [
        "classifier = BinaryRelevance(\n",
        "    classifier = LogisticRegression(solver='sag'),\n",
        "    require_dense = [False, True]\n",
        ")\n",
        "\n",
        "# train\n",
        "classifier.fit(x_train, y_train)\n",
        "print(classifier.model_count_)\n",
        "# predict\n",
        "prediction=classifier.predict(x_test)\n",
        "f1=sklearn.metrics.f1_score(y_test, prediction,average=\"micro\")\n",
        "f1"
      ],
      "execution_count": 21,
      "outputs": [
        {
          "output_type": "stream",
          "text": [
            "8\n"
          ],
          "name": "stdout"
        },
        {
          "output_type": "stream",
          "text": [
            "/usr/local/lib/python3.7/dist-packages/sklearn/linear_model/_sag.py:330: ConvergenceWarning: The max_iter was reached which means the coef_ did not converge\n",
            "  \"the coef_ did not converge\", ConvergenceWarning)\n",
            "/usr/local/lib/python3.7/dist-packages/sklearn/linear_model/_sag.py:330: ConvergenceWarning: The max_iter was reached which means the coef_ did not converge\n",
            "  \"the coef_ did not converge\", ConvergenceWarning)\n",
            "/usr/local/lib/python3.7/dist-packages/sklearn/linear_model/_sag.py:330: ConvergenceWarning: The max_iter was reached which means the coef_ did not converge\n",
            "  \"the coef_ did not converge\", ConvergenceWarning)\n",
            "/usr/local/lib/python3.7/dist-packages/sklearn/linear_model/_sag.py:330: ConvergenceWarning: The max_iter was reached which means the coef_ did not converge\n",
            "  \"the coef_ did not converge\", ConvergenceWarning)\n",
            "/usr/local/lib/python3.7/dist-packages/sklearn/linear_model/_sag.py:330: ConvergenceWarning: The max_iter was reached which means the coef_ did not converge\n",
            "  \"the coef_ did not converge\", ConvergenceWarning)\n",
            "/usr/local/lib/python3.7/dist-packages/sklearn/linear_model/_sag.py:330: ConvergenceWarning: The max_iter was reached which means the coef_ did not converge\n",
            "  \"the coef_ did not converge\", ConvergenceWarning)\n"
          ],
          "name": "stderr"
        },
        {
          "output_type": "execute_result",
          "data": {
            "text/plain": [
              "0.5849802371541503"
            ]
          },
          "metadata": {
            "tags": []
          },
          "execution_count": 21
        }
      ]
    },
    {
      "cell_type": "code",
      "metadata": {
        "colab": {
          "base_uri": "https://localhost:8080/"
        },
        "id": "Kz5BTXy6vvpB",
        "outputId": "796b1d41-4ae2-458b-b629-89d4b2fd12af"
      },
      "source": [
        "!pip install scikit-multilearn"
      ],
      "execution_count": 11,
      "outputs": [
        {
          "output_type": "stream",
          "text": [
            "Collecting scikit-multilearn\n",
            "\u001b[?25l  Downloading https://files.pythonhosted.org/packages/bb/1f/e6ff649c72a1cdf2c7a1d31eb21705110ce1c5d3e7e26b2cc300e1637272/scikit_multilearn-0.2.0-py3-none-any.whl (89kB)\n",
            "\r\u001b[K     |███▊                            | 10kB 11.5MB/s eta 0:00:01\r\u001b[K     |███████▍                        | 20kB 15.2MB/s eta 0:00:01\r\u001b[K     |███████████                     | 30kB 17.4MB/s eta 0:00:01\r\u001b[K     |██████████████▊                 | 40kB 17.4MB/s eta 0:00:01\r\u001b[K     |██████████████████▍             | 51kB 9.0MB/s eta 0:00:01\r\u001b[K     |██████████████████████          | 61kB 10.2MB/s eta 0:00:01\r\u001b[K     |█████████████████████████▊      | 71kB 8.2MB/s eta 0:00:01\r\u001b[K     |█████████████████████████████▍  | 81kB 8.9MB/s eta 0:00:01\r\u001b[K     |████████████████████████████████| 92kB 4.6MB/s \n",
            "\u001b[?25hInstalling collected packages: scikit-multilearn\n",
            "Successfully installed scikit-multilearn-0.2.0\n"
          ],
          "name": "stdout"
        }
      ]
    },
    {
      "cell_type": "code",
      "metadata": {
        "id": "URcqs1npvy-M"
      },
      "source": [
        "classifier"
      ],
      "execution_count": null,
      "outputs": []
    }
  ]
}