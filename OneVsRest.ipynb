{
  "nbformat": 4,
  "nbformat_minor": 0,
  "metadata": {
    "colab": {
      "name": "Hobby.ipynb",
      "provenance": [],
      "collapsed_sections": [],
      "authorship_tag": "ABX9TyM98/fGk56iAwElBtCctwhW",
      "include_colab_link": true
    },
    "kernelspec": {
      "name": "python3",
      "display_name": "Python 3"
    },
    "language_info": {
      "name": "python"
    }
  },
  "cells": [
    {
      "cell_type": "markdown",
      "metadata": {
        "id": "view-in-github",
        "colab_type": "text"
      },
      "source": [
        "<a href=\"https://colab.research.google.com/github/brandontan99/Self_Love_App/blob/master/OneVsRest.ipynb\" target=\"_parent\"><img src=\"https://colab.research.google.com/assets/colab-badge.svg\" alt=\"Open In Colab\"/></a>"
      ]
    },
    {
      "cell_type": "code",
      "metadata": {
        "colab": {
          "base_uri": "https://localhost:8080/"
        },
        "id": "WlgtI9xDDjFX",
        "outputId": "6b095445-b118-484b-dcb8-6113483e7f09"
      },
      "source": [
        "!git clone https://github.com/brandontan99/Self_Love_App.git\n",
        "%cd Self_Love_App"
      ],
      "execution_count": 1,
      "outputs": [
        {
          "output_type": "stream",
          "text": [
            "Cloning into 'Self_Love_App'...\n",
            "remote: Enumerating objects: 169, done.\u001b[K\n",
            "remote: Counting objects: 100% (169/169), done.\u001b[K\n",
            "remote: Compressing objects: 100% (144/144), done.\u001b[K\n",
            "remote: Total 169 (delta 93), reused 50 (delta 22), pack-reused 0\u001b[K\n",
            "Receiving objects: 100% (169/169), 1.81 MiB | 15.48 MiB/s, done.\n",
            "Resolving deltas: 100% (93/93), done.\n",
            "/content/Self_Love_App\n"
          ],
          "name": "stdout"
        }
      ]
    },
    {
      "cell_type": "code",
      "metadata": {
        "id": "q3rWfMcSDju9"
      },
      "source": [
        "import pandas as pd\n",
        "from data_cleaning import *\n",
        "from Data_Normalization import *\n",
        "from feature_selection import *\n",
        "\n",
        "import sklearn\n",
        "from sklearn.pipeline import Pipeline\n",
        "from sklearn.linear_model import LogisticRegression\n",
        "from sklearn.naive_bayes import MultinomialNB\n",
        "from sklearn.svm import LinearSVC\n",
        "from sklearn.metrics import accuracy_score\n",
        "from sklearn.multiclass import OneVsRestClassifier\n",
        "from sklearn.model_selection import train_test_split\n",
        "import statistics\n",
        "import joblib\n",
        "from copy import deepcopy"
      ],
      "execution_count": 2,
      "outputs": []
    },
    {
      "cell_type": "code",
      "metadata": {
        "colab": {
          "base_uri": "https://localhost:8080/"
        },
        "id": "xVeyyQKnBO2Z",
        "outputId": "195c5047-1ced-4f30-ffb0-8e83c202727f"
      },
      "source": [
        "    #Feature selection\n",
        "    from sklearn.preprocessing import LabelEncoder\n",
        "    from sklearn.feature_selection import chi2, SelectKBest\n",
        "    # to do the chi2 analysis\n",
        "    df = pd.read_csv(\"WID3006 ML Questionnaire.csv\")\n",
        "    df = data_cleaning(df)\n",
        "    # label encoding is used instead of one-hot encoding because one-hot encoding will create many features for one question\n",
        "    # but label encoding is able to perform chi-square test between a single question as a whole and the hobby  \n",
        "    x_df, y_df = label_encoding(df)\n",
        "    # only evaluate on train data to prevent data leakage\n",
        "    x_train_label_encoded, _, y_train, _ = train_test_split(x_df.to_numpy(), y_df.to_numpy(), test_size=0.2, random_state=1)\n",
        "    chi2_result = chi2_analysis(x_train_label_encoded, x_df, y_train)\n",
        "\n",
        "    # to do Recursive Feature Elimination(rfe) feature selection\n",
        "    df = pd.read_csv(\"WID3006 ML Questionnaire.csv\")\n",
        "    df = data_cleaning(df)\n",
        "    df = data_encoding(df)\n",
        "    df_norm = data_normalization(df)\n",
        "    x = df_norm.iloc[:, :64]\n",
        "    y = df_norm.iloc[:, 64:]\n",
        "    x_numpy, y_numpy = x.to_numpy(), y.to_numpy()\n",
        "    x_train, x_test, y_train, y_test = train_test_split(x_numpy, y_numpy, test_size=0.2, random_state=1)\n",
        "    rfe_result = rfe_cv(x_train, y_train, x.columns, y.columns, LogisticRegression())\n",
        "\n",
        "    # to pick the selected best questions as features\n",
        "    # Eg: choose the best 13 features as below\n",
        "    df = pd.read_csv(\"WID3006 ML Questionnaire.csv\")\n",
        "    df = data_cleaning(df)\n",
        "    df = data_encoding(df)\n",
        "    df_norm = data_normalization(df)\n",
        "    # choose either chi2 or rfe \n",
        "    best_k_features = select_best_k_features(chi2_result, k=13) # choose chi2_result \n",
        "    best_k_features = select_best_k_features(rfe_result, k=13) # choose rfe_analysis\n",
        "    x = filter_features(best_k_features, df_norm)"
      ],
      "execution_count": 3,
      "outputs": [
        {
          "output_type": "stream",
          "text": [
            "\n",
            "Hobby: Sports and Outdoors\n",
            "Best number of features: 11\n",
            "Score: 0.6797849462365592\n",
            "1 Gender: _Male\n",
            "21 Choose a pet which you prefer to keep._Horse\n",
            "25 Choose a pet which you prefer to keep._Tortoise\n",
            "40 What is your favorite color?_Blue\n",
            "50 What is your learning style? (Pick one that benefit you the most)_By reading an e-Book\n",
            "52 Do you enjoy challenges?\n",
            "55 Would you prefer to engage your brain more than your body?\n",
            "57 Are you a perfectionist?\n",
            "58 Are you a trusting person?\n",
            "59 Do you have lot of patience?\n",
            "64 How confident are you in your own abilities?\n",
            "\n",
            "Hobby: Games\n",
            "Best number of features: 10\n",
            "Score: 0.5944086021505377\n",
            "1 Gender: _Male\n",
            "4 What is your current occupation?_University student\n",
            "11 I prefer to spend my money on...._The latest fashion\n",
            "22 Choose a pet which you prefer to keep._I'm not a pet person\n",
            "31 What do you worry more about the most?_Money\n",
            "33 What do you worry more about the most?_Your family and friends\n",
            "35 When you retire, you'd like to live..._Exactly where I live now\n",
            "42 What is your favorite color?_Purple\n",
            "50 What is your learning style? (Pick one that benefit you the most)_By reading an e-Book\n",
            "61 Do you like to sit in front of a computer for long hours?\n",
            "\n",
            "Hobby: Spiritual and Mental\n",
            "Best number of features: 18\n",
            "Score: 0.6270967741935484\n",
            "1 Gender: _Male\n",
            "6 What boosts your confidence ? _Get the most/ special attention among the members\n",
            "8 What boosts your confidence ? _When you accomplish a project\n",
            "15 How do you organize your thoughts? Please pick whichever is closest._I write it down in my calendar\n",
            "17 Choose a pet which you prefer to keep._Cat\n",
            "24 Choose a pet which you prefer to keep._Snake\n",
            "30 Would you rather visit the future or the past?_The past\n",
            "31 What do you worry more about the most?_Money\n",
            "36 When you retire, you'd like to live..._In a hectic big city\n",
            "37 When you retire, you'd like to live..._In a small town\n",
            "43 What is your favorite color?_Red\n",
            "44 What is your favorite color?_White\n",
            "50 What is your learning style? (Pick one that benefit you the most)_By reading an e-Book\n",
            "52 Do you enjoy challenges?\n",
            "53 How creative of a person do you think you are?\n",
            "54 How logical of a person do you think you are?\n",
            "62 Do you enjoy making others happy?\n",
            "63 Can you understand others' perspectives and feelings?\n",
            "\n",
            "Hobby: Performing Arts\n",
            "Best number of features: 12\n",
            "Score: 0.6348387096774193\n",
            "1 Gender: _Male\n",
            "4 What is your current occupation?_University student\n",
            "8 What boosts your confidence ? _When you accomplish a project\n",
            "11 I prefer to spend my money on...._The latest fashion\n",
            "14 How do you organize your thoughts? Please pick whichever is closest._I talk to myself out loud\n",
            "31 What do you worry more about the most?_Money\n",
            "33 What do you worry more about the most?_Your family and friends\n",
            "35 When you retire, you'd like to live..._Exactly where I live now\n",
            "41 What is your favorite color?_Green\n",
            "43 What is your favorite color?_Red\n",
            "45 What is your favorite color?_Yellow\n",
            "51 Do you enjoy socializing with large groups of people?\n",
            "\n",
            "Hobby: Arts and Craft\n",
            "Best number of features: 3\n",
            "Score: 0.7649462365591397\n",
            "53 How creative of a person do you think you are?\n",
            "54 How logical of a person do you think you are?\n",
            "61 Do you like to sit in front of a computer for long hours?\n",
            "\n",
            "Hobby: Food and Drinks\n",
            "Best number of features: 1\n",
            "Score: 0.6929032258064517\n",
            "44 What is your favorite color?_White\n",
            "\n",
            "Hobby: Collecting\n",
            "Best number of features: 1\n",
            "Score: 0.8890322580645161\n",
            "17 Choose a pet which you prefer to keep._Cat\n",
            "\n",
            "Hobby: Rejuvenation\n",
            "Best number of features: 8\n",
            "Score: 0.9150537634408602\n",
            "3 What is your current occupation?_Unemployed\n",
            "4 What is your current occupation?_University student\n",
            "28 What is your favorite time of the day?_Night\n",
            "32 What do you worry more about the most?_The state of the world\n",
            "42 What is your favorite color?_Purple\n",
            "59 Do you have lot of patience?\n",
            "60 Do you organize your schedule well?\n",
            "64 How confident are you in your own abilities?\n"
          ],
          "name": "stdout"
        }
      ]
    },
    {
      "cell_type": "code",
      "metadata": {
        "id": "YIcSLOCq_deQ"
      },
      "source": [
        "def train_model(pipeline,x,y):\n",
        "  f1_list=[] #To store the f1 score for each model\n",
        "  pipelineList=[] #To store each model\n",
        "  x_train, x_test,y_train,y_test = train_test_split(x,y, random_state=1, test_size=0.25, shuffle=True)\n",
        "  for i,hobby in enumerate(y.columns):\n",
        "      # Training model on train data\n",
        "      pipelineList.append(deepcopy(pipeline).fit(x_train, y_train[hobby]))\n",
        "      # Calculating test accuracy\n",
        "      prediction = pipelineList[i].predict(x_test)\n",
        "      f1=sklearn.metrics.f1_score(y_test[hobby], prediction,average=\"micro\")\n",
        "      f1_list.append(f1)\n",
        "      print(\"F1 score for\",hobby,\": \",f1.round(3))\n",
        "  print('Average f1-score: {}% ({})'.format(round(statistics.mean(f1_list)*100,3),round(statistics.stdev(f1_list)*100,3)))\n",
        "  return pipelineList\n",
        "\n",
        "def predict(pipelineList,x_pred):\n",
        "  x_pred=np.array(x_pred).reshape(-1,x.shape[1])\n",
        "  pred=[] #To store predicted hobby\n",
        "  for i,hobby in enumerate(y.columns):\n",
        "    prediction = pipelineList[i].predict(x_pred)\n",
        "    #Add predicted hobby\n",
        "    if prediction[0]==1:\n",
        "      pred.append(hobby)\n",
        "  print(pred)"
      ],
      "execution_count": 27,
      "outputs": []
    },
    {
      "cell_type": "code",
      "metadata": {
        "id": "wD947Ut_E4kW"
      },
      "source": [
        "# Using pipeline for applying logistic regression/naive bayes/support vector classifier and one vs rest classifier\n",
        "OneVsRestClassifier.multilabel_=True #Whether this is a multilabel classifier, does not seem to make a difference\n",
        "LogReg_pipeline = Pipeline([\n",
        "                ('clf', OneVsRestClassifier(LogisticRegression(solver='sag'), n_jobs=-1)),\n",
        "            ])\n",
        "NB_pipeline = Pipeline([\n",
        "                ('clf', OneVsRestClassifier(MultinomialNB(\n",
        "                    fit_prior=True, class_prior=None))),\n",
        "            ])\n",
        "SVC_pipeline = Pipeline([\n",
        "                ('clf', OneVsRestClassifier(LinearSVC(), n_jobs=1)),\n",
        "            ])"
      ],
      "execution_count": 28,
      "outputs": []
    },
    {
      "cell_type": "code",
      "metadata": {
        "id": "7WZjaNS_KE_-"
      },
      "source": [
        "x_train, x_test,y_train,y_test = train_test_split(x,y, random_state=1, test_size=0.25, shuffle=True)"
      ],
      "execution_count": 29,
      "outputs": []
    },
    {
      "cell_type": "code",
      "metadata": {
        "colab": {
          "base_uri": "https://localhost:8080/"
        },
        "id": "ANwAF3xi0vte",
        "outputId": "7dad51bf-6fe4-4629-d73b-f88c9c094aa2"
      },
      "source": [
        "#Most consistent model\n",
        "Logreg_pipelineList=train_model(LogReg_pipeline,x,y)\n",
        "for i in range(5): \n",
        "  predict(Logreg_pipelineList,x_test.iloc[i,:])\n",
        "  for j in range(len(y_test.columns)):\n",
        "    print(y_test.columns[j],\":\",y_test.iloc[i,j])"
      ],
      "execution_count": 30,
      "outputs": [
        {
          "output_type": "stream",
          "text": [
            "F1 score for Sports and Outdoors :  0.604\n",
            "F1 score for Games :  0.625\n",
            "F1 score for Spiritual and Mental :  0.625\n",
            "F1 score for Performing Arts :  0.625\n",
            "F1 score for Arts and Craft :  0.792\n",
            "F1 score for Food and Drinks :  0.792\n",
            "F1 score for Collecting :  0.917\n",
            "F1 score for Rejuvenation :  0.854\n",
            "Average f1-score: 72.917% (12.35)\n",
            "['Sports and Outdoors', 'Games', 'Performing Arts', 'Food and Drinks']\n",
            "Sports and Outdoors : 1.0\n",
            "Games : 1.0\n",
            "Spiritual and Mental : 0.0\n",
            "Performing Arts : 0.0\n",
            "Arts and Craft : 0.0\n",
            "Food and Drinks : 1.0\n",
            "Collecting : 0.0\n",
            "Rejuvenation : 0.0\n",
            "['Sports and Outdoors', 'Games', 'Spiritual and Mental']\n",
            "Sports and Outdoors : 1.0\n",
            "Games : 1.0\n",
            "Spiritual and Mental : 0.0\n",
            "Performing Arts : 0.0\n",
            "Arts and Craft : 0.0\n",
            "Food and Drinks : 1.0\n",
            "Collecting : 0.0\n",
            "Rejuvenation : 0.0\n",
            "['Sports and Outdoors', 'Games', 'Spiritual and Mental']\n",
            "Sports and Outdoors : 1.0\n",
            "Games : 0.0\n",
            "Spiritual and Mental : 1.0\n",
            "Performing Arts : 0.0\n",
            "Arts and Craft : 0.0\n",
            "Food and Drinks : 0.0\n",
            "Collecting : 0.0\n",
            "Rejuvenation : 0.0\n",
            "['Sports and Outdoors', 'Games', 'Spiritual and Mental', 'Performing Arts']\n",
            "Sports and Outdoors : 1.0\n",
            "Games : 1.0\n",
            "Spiritual and Mental : 0.0\n",
            "Performing Arts : 0.0\n",
            "Arts and Craft : 0.0\n",
            "Food and Drinks : 0.0\n",
            "Collecting : 0.0\n",
            "Rejuvenation : 0.0\n",
            "['Sports and Outdoors', 'Games', 'Spiritual and Mental']\n",
            "Sports and Outdoors : 0.0\n",
            "Games : 1.0\n",
            "Spiritual and Mental : 1.0\n",
            "Performing Arts : 0.0\n",
            "Arts and Craft : 0.0\n",
            "Food and Drinks : 0.0\n",
            "Collecting : 0.0\n",
            "Rejuvenation : 0.0\n"
          ],
          "name": "stdout"
        }
      ]
    },
    {
      "cell_type": "code",
      "metadata": {
        "colab": {
          "base_uri": "https://localhost:8080/"
        },
        "id": "3axWqdTAAr_H",
        "outputId": "5e22fa56-652c-42e3-c8dc-bef1a4f2d416"
      },
      "source": [
        "NB_pipelineList=train_model(NB_pipeline,x,y)\n",
        "for i in range(5): \n",
        "  predict(NB_pipelineList,x_test.iloc[i,:])\n",
        "  for j in range(len(y_test.columns)):\n",
        "    print(y_test.columns[j],\":\",y_test.iloc[i,j])"
      ],
      "execution_count": 31,
      "outputs": [
        {
          "output_type": "stream",
          "text": [
            "F1 score for Sports and Outdoors :  0.542\n",
            "F1 score for Games :  0.646\n",
            "F1 score for Spiritual and Mental :  0.583\n",
            "F1 score for Performing Arts :  0.625\n",
            "F1 score for Arts and Craft :  0.812\n",
            "F1 score for Food and Drinks :  0.729\n",
            "F1 score for Collecting :  0.896\n",
            "F1 score for Rejuvenation :  0.854\n",
            "Average f1-score: 71.094% (13.197)\n",
            "['Sports and Outdoors', 'Games', 'Spiritual and Mental']\n",
            "Sports and Outdoors : 1.0\n",
            "Games : 1.0\n",
            "Spiritual and Mental : 0.0\n",
            "Performing Arts : 0.0\n",
            "Arts and Craft : 0.0\n",
            "Food and Drinks : 1.0\n",
            "Collecting : 0.0\n",
            "Rejuvenation : 0.0\n",
            "['Sports and Outdoors', 'Games', 'Spiritual and Mental']\n",
            "Sports and Outdoors : 1.0\n",
            "Games : 1.0\n",
            "Spiritual and Mental : 0.0\n",
            "Performing Arts : 0.0\n",
            "Arts and Craft : 0.0\n",
            "Food and Drinks : 1.0\n",
            "Collecting : 0.0\n",
            "Rejuvenation : 0.0\n",
            "['Sports and Outdoors', 'Games', 'Spiritual and Mental']\n",
            "Sports and Outdoors : 1.0\n",
            "Games : 0.0\n",
            "Spiritual and Mental : 1.0\n",
            "Performing Arts : 0.0\n",
            "Arts and Craft : 0.0\n",
            "Food and Drinks : 0.0\n",
            "Collecting : 0.0\n",
            "Rejuvenation : 0.0\n",
            "['Sports and Outdoors', 'Games', 'Spiritual and Mental', 'Performing Arts']\n",
            "Sports and Outdoors : 1.0\n",
            "Games : 1.0\n",
            "Spiritual and Mental : 0.0\n",
            "Performing Arts : 0.0\n",
            "Arts and Craft : 0.0\n",
            "Food and Drinks : 0.0\n",
            "Collecting : 0.0\n",
            "Rejuvenation : 0.0\n",
            "['Sports and Outdoors', 'Games', 'Spiritual and Mental']\n",
            "Sports and Outdoors : 0.0\n",
            "Games : 1.0\n",
            "Spiritual and Mental : 1.0\n",
            "Performing Arts : 0.0\n",
            "Arts and Craft : 0.0\n",
            "Food and Drinks : 0.0\n",
            "Collecting : 0.0\n",
            "Rejuvenation : 0.0\n"
          ],
          "name": "stdout"
        }
      ]
    },
    {
      "cell_type": "code",
      "metadata": {
        "colab": {
          "base_uri": "https://localhost:8080/"
        },
        "id": "sVVSPSeFfNY0",
        "outputId": "92c49c47-a76c-4e78-8221-bd0fb724a13b"
      },
      "source": [
        "SVC_pipelineList=train_model(SVC_pipeline,x,y)\n",
        "for i in range(5): \n",
        "  predict(SVC_pipelineList,x_test.iloc[i,:])\n",
        "  for j in range(len(y_test.columns)):\n",
        "    print(y_test.columns[j],\":\",y_test.iloc[i,j])"
      ],
      "execution_count": 32,
      "outputs": [
        {
          "output_type": "stream",
          "text": [
            "F1 score for Sports and Outdoors :  0.604\n",
            "F1 score for Games :  0.604\n",
            "F1 score for Spiritual and Mental :  0.646\n",
            "F1 score for Performing Arts :  0.604\n",
            "F1 score for Arts and Craft :  0.75\n",
            "F1 score for Food and Drinks :  0.812\n",
            "F1 score for Collecting :  0.875\n",
            "F1 score for Rejuvenation :  0.792\n",
            "Average f1-score: 71.094% (10.936)\n",
            "['Sports and Outdoors', 'Games', 'Performing Arts', 'Food and Drinks']\n",
            "Sports and Outdoors : 1.0\n",
            "Games : 1.0\n",
            "Spiritual and Mental : 0.0\n",
            "Performing Arts : 0.0\n",
            "Arts and Craft : 0.0\n",
            "Food and Drinks : 1.0\n",
            "Collecting : 0.0\n",
            "Rejuvenation : 0.0\n",
            "['Sports and Outdoors', 'Games', 'Spiritual and Mental']\n",
            "Sports and Outdoors : 1.0\n",
            "Games : 1.0\n",
            "Spiritual and Mental : 0.0\n",
            "Performing Arts : 0.0\n",
            "Arts and Craft : 0.0\n",
            "Food and Drinks : 1.0\n",
            "Collecting : 0.0\n",
            "Rejuvenation : 0.0\n",
            "['Sports and Outdoors', 'Games', 'Spiritual and Mental']\n",
            "Sports and Outdoors : 1.0\n",
            "Games : 0.0\n",
            "Spiritual and Mental : 1.0\n",
            "Performing Arts : 0.0\n",
            "Arts and Craft : 0.0\n",
            "Food and Drinks : 0.0\n",
            "Collecting : 0.0\n",
            "Rejuvenation : 0.0\n",
            "['Sports and Outdoors', 'Games', 'Spiritual and Mental', 'Performing Arts']\n",
            "Sports and Outdoors : 1.0\n",
            "Games : 1.0\n",
            "Spiritual and Mental : 0.0\n",
            "Performing Arts : 0.0\n",
            "Arts and Craft : 0.0\n",
            "Food and Drinks : 0.0\n",
            "Collecting : 0.0\n",
            "Rejuvenation : 0.0\n",
            "['Sports and Outdoors', 'Games', 'Spiritual and Mental', 'Performing Arts']\n",
            "Sports and Outdoors : 0.0\n",
            "Games : 1.0\n",
            "Spiritual and Mental : 1.0\n",
            "Performing Arts : 0.0\n",
            "Arts and Craft : 0.0\n",
            "Food and Drinks : 0.0\n",
            "Collecting : 0.0\n",
            "Rejuvenation : 0.0\n"
          ],
          "name": "stdout"
        }
      ]
    },
    {
      "cell_type": "code",
      "metadata": {
        "id": "JXrdqvlqFFsw"
      },
      "source": [
        ""
      ],
      "execution_count": null,
      "outputs": []
    }
  ]
}